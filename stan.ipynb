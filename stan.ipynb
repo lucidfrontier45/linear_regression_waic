{
 "cells": [
  {
   "cell_type": "code",
   "execution_count": 1,
   "metadata": {},
   "outputs": [
    {
     "name": "stderr",
     "output_type": "stream",
     "text": [
      "/home/du/workspace/numpyro_linear_regression_waic/.venv/lib/python3.11/site-packages/tqdm/auto.py:21: TqdmWarning: IProgress not found. Please update jupyter and ipywidgets. See https://ipywidgets.readthedocs.io/en/stable/user_install.html\n",
      "  from .autonotebook import tqdm as notebook_tqdm\n"
     ]
    }
   ],
   "source": [
    "import numpy as np\n",
    "\n",
    "from app.stan.inference import run_mcmc, evaluate_model, make_prediction\n",
    "from app.stan.model import get_model"
   ]
  },
  {
   "cell_type": "code",
   "execution_count": 2,
   "metadata": {},
   "outputs": [],
   "source": [
    "w = np.array([3.5, -1.5,  0.0, 0.0])\n",
    "sigma = 0.5\n",
    "\n",
    "D = len(w)\n",
    "N = 100\n",
    "np.random.seed(0)\n",
    "X = np.random.randn(N, D)\n",
    "y = np.dot(X, w) + np.random.randn(N) * sigma"
   ]
  },
  {
   "cell_type": "code",
   "execution_count": 3,
   "metadata": {},
   "outputs": [
    {
     "name": "stderr",
     "output_type": "stream",
     "text": [
      "17:25:54 - cmdstanpy - INFO - compiling stan file /data/home/du/workspace/numpyro_linear_regression_waic/src/app/stan/model.stan to exe file /data/home/du/workspace/numpyro_linear_regression_waic/src/app/stan/model\n",
      "17:26:21 - cmdstanpy - INFO - compiled model executable: /data/home/du/workspace/numpyro_linear_regression_waic/src/app/stan/model\n",
      "17:26:21 - cmdstanpy - INFO - CmdStan start processing\n",
      "17:26:21 - cmdstanpy - INFO - Chain [1] start processing\n",
      "17:26:21 - cmdstanpy - INFO - Chain [2] start processing\n",
      "17:26:21 - cmdstanpy - INFO - Chain [3] start processing\n",
      "17:26:21 - cmdstanpy - INFO - Chain [4] start processing\n",
      "17:26:22 - cmdstanpy - INFO - Chain [1] done processing\n",
      "17:26:22 - cmdstanpy - INFO - Chain [4] done processing\n",
      "17:26:22 - cmdstanpy - INFO - Chain [2] done processing\n",
      "17:26:22 - cmdstanpy - INFO - Chain [3] done processing\n"
     ]
    },
    {
     "data": {
      "text/html": [
       "<div>\n",
       "<style scoped>\n",
       "    .dataframe tbody tr th:only-of-type {\n",
       "        vertical-align: middle;\n",
       "    }\n",
       "\n",
       "    .dataframe tbody tr th {\n",
       "        vertical-align: top;\n",
       "    }\n",
       "\n",
       "    .dataframe thead th {\n",
       "        text-align: right;\n",
       "    }\n",
       "</style>\n",
       "<table border=\"1\" class=\"dataframe\">\n",
       "  <thead>\n",
       "    <tr style=\"text-align: right;\">\n",
       "      <th></th>\n",
       "      <th>Mean</th>\n",
       "      <th>MCSE</th>\n",
       "      <th>StdDev</th>\n",
       "      <th>5%</th>\n",
       "      <th>50%</th>\n",
       "      <th>95%</th>\n",
       "      <th>N_Eff</th>\n",
       "      <th>N_Eff/s</th>\n",
       "      <th>R_hat</th>\n",
       "    </tr>\n",
       "  </thead>\n",
       "  <tbody>\n",
       "    <tr>\n",
       "      <th>lp__</th>\n",
       "      <td>-85.010500</td>\n",
       "      <td>0.034815</td>\n",
       "      <td>1.600810</td>\n",
       "      <td>-88.156300</td>\n",
       "      <td>-84.674800</td>\n",
       "      <td>-83.053300</td>\n",
       "      <td>2114.14</td>\n",
       "      <td>2288.03</td>\n",
       "      <td>1.000850</td>\n",
       "    </tr>\n",
       "    <tr>\n",
       "      <th>w[1]</th>\n",
       "      <td>3.424320</td>\n",
       "      <td>0.000726</td>\n",
       "      <td>0.049929</td>\n",
       "      <td>3.342750</td>\n",
       "      <td>3.423440</td>\n",
       "      <td>3.506520</td>\n",
       "      <td>4723.24</td>\n",
       "      <td>5111.74</td>\n",
       "      <td>0.999924</td>\n",
       "    </tr>\n",
       "    <tr>\n",
       "      <th>w[2]</th>\n",
       "      <td>-1.557500</td>\n",
       "      <td>0.000861</td>\n",
       "      <td>0.054606</td>\n",
       "      <td>-1.647080</td>\n",
       "      <td>-1.559210</td>\n",
       "      <td>-1.467980</td>\n",
       "      <td>4020.61</td>\n",
       "      <td>4351.31</td>\n",
       "      <td>0.999670</td>\n",
       "    </tr>\n",
       "    <tr>\n",
       "      <th>w[3]</th>\n",
       "      <td>-0.014894</td>\n",
       "      <td>0.000869</td>\n",
       "      <td>0.060309</td>\n",
       "      <td>-0.114398</td>\n",
       "      <td>-0.014557</td>\n",
       "      <td>0.083934</td>\n",
       "      <td>4815.63</td>\n",
       "      <td>5211.72</td>\n",
       "      <td>0.999974</td>\n",
       "    </tr>\n",
       "    <tr>\n",
       "      <th>w[4]</th>\n",
       "      <td>-0.009083</td>\n",
       "      <td>0.000724</td>\n",
       "      <td>0.053545</td>\n",
       "      <td>-0.099930</td>\n",
       "      <td>-0.008251</td>\n",
       "      <td>0.077756</td>\n",
       "      <td>5473.88</td>\n",
       "      <td>5924.11</td>\n",
       "      <td>0.999574</td>\n",
       "    </tr>\n",
       "    <tr>\n",
       "      <th>...</th>\n",
       "      <td>...</td>\n",
       "      <td>...</td>\n",
       "      <td>...</td>\n",
       "      <td>...</td>\n",
       "      <td>...</td>\n",
       "      <td>...</td>\n",
       "      <td>...</td>\n",
       "      <td>...</td>\n",
       "      <td>...</td>\n",
       "    </tr>\n",
       "    <tr>\n",
       "      <th>logp[96]</th>\n",
       "      <td>-0.384072</td>\n",
       "      <td>0.002334</td>\n",
       "      <td>0.144335</td>\n",
       "      <td>-0.660608</td>\n",
       "      <td>-0.356488</td>\n",
       "      <td>-0.206780</td>\n",
       "      <td>3825.10</td>\n",
       "      <td>4139.72</td>\n",
       "      <td>1.000140</td>\n",
       "    </tr>\n",
       "    <tr>\n",
       "      <th>logp[97]</th>\n",
       "      <td>-0.672388</td>\n",
       "      <td>0.002965</td>\n",
       "      <td>0.207382</td>\n",
       "      <td>-1.058130</td>\n",
       "      <td>-0.641468</td>\n",
       "      <td>-0.386968</td>\n",
       "      <td>4893.60</td>\n",
       "      <td>5296.11</td>\n",
       "      <td>0.999392</td>\n",
       "    </tr>\n",
       "    <tr>\n",
       "      <th>logp[98]</th>\n",
       "      <td>-0.311268</td>\n",
       "      <td>0.001228</td>\n",
       "      <td>0.078727</td>\n",
       "      <td>-0.446517</td>\n",
       "      <td>-0.306971</td>\n",
       "      <td>-0.189385</td>\n",
       "      <td>4112.06</td>\n",
       "      <td>4450.29</td>\n",
       "      <td>1.000270</td>\n",
       "    </tr>\n",
       "    <tr>\n",
       "      <th>logp[99]</th>\n",
       "      <td>-1.043010</td>\n",
       "      <td>0.003469</td>\n",
       "      <td>0.228425</td>\n",
       "      <td>-1.464140</td>\n",
       "      <td>-1.025960</td>\n",
       "      <td>-0.701853</td>\n",
       "      <td>4335.74</td>\n",
       "      <td>4692.35</td>\n",
       "      <td>0.999823</td>\n",
       "    </tr>\n",
       "    <tr>\n",
       "      <th>logp[100]</th>\n",
       "      <td>-0.321890</td>\n",
       "      <td>0.001436</td>\n",
       "      <td>0.090420</td>\n",
       "      <td>-0.481379</td>\n",
       "      <td>-0.315226</td>\n",
       "      <td>-0.187191</td>\n",
       "      <td>3966.76</td>\n",
       "      <td>4293.03</td>\n",
       "      <td>0.999867</td>\n",
       "    </tr>\n",
       "  </tbody>\n",
       "</table>\n",
       "<p>106 rows × 9 columns</p>\n",
       "</div>"
      ],
      "text/plain": [
       "                Mean      MCSE    StdDev         5%        50%        95%  \\\n",
       "lp__      -85.010500  0.034815  1.600810 -88.156300 -84.674800 -83.053300   \n",
       "w[1]        3.424320  0.000726  0.049929   3.342750   3.423440   3.506520   \n",
       "w[2]       -1.557500  0.000861  0.054606  -1.647080  -1.559210  -1.467980   \n",
       "w[3]       -0.014894  0.000869  0.060309  -0.114398  -0.014557   0.083934   \n",
       "w[4]       -0.009083  0.000724  0.053545  -0.099930  -0.008251   0.077756   \n",
       "...              ...       ...       ...        ...        ...        ...   \n",
       "logp[96]   -0.384072  0.002334  0.144335  -0.660608  -0.356488  -0.206780   \n",
       "logp[97]   -0.672388  0.002965  0.207382  -1.058130  -0.641468  -0.386968   \n",
       "logp[98]   -0.311268  0.001228  0.078727  -0.446517  -0.306971  -0.189385   \n",
       "logp[99]   -1.043010  0.003469  0.228425  -1.464140  -1.025960  -0.701853   \n",
       "logp[100]  -0.321890  0.001436  0.090420  -0.481379  -0.315226  -0.187191   \n",
       "\n",
       "             N_Eff  N_Eff/s     R_hat  \n",
       "lp__       2114.14  2288.03  1.000850  \n",
       "w[1]       4723.24  5111.74  0.999924  \n",
       "w[2]       4020.61  4351.31  0.999670  \n",
       "w[3]       4815.63  5211.72  0.999974  \n",
       "w[4]       5473.88  5924.11  0.999574  \n",
       "...            ...      ...       ...  \n",
       "logp[96]   3825.10  4139.72  1.000140  \n",
       "logp[97]   4893.60  5296.11  0.999392  \n",
       "logp[98]   4112.06  4450.29  1.000270  \n",
       "logp[99]   4335.74  4692.35  0.999823  \n",
       "logp[100]  3966.76  4293.03  0.999867  \n",
       "\n",
       "[106 rows x 9 columns]"
      ]
     },
     "execution_count": 3,
     "metadata": {},
     "output_type": "execute_result"
    }
   ],
   "source": [
    "linear_model = get_model()\n",
    "mcmc = run_mcmc(linear_model, X, y, num_chains=4)\n",
    "mcmc.summary()"
   ]
  },
  {
   "cell_type": "code",
   "execution_count": 4,
   "metadata": {},
   "outputs": [
    {
     "data": {
      "text/plain": [
       "0.795507695137393"
      ]
     },
     "execution_count": 4,
     "metadata": {},
     "output_type": "execute_result"
    }
   ],
   "source": [
    "evaluate_model(mcmc)"
   ]
  },
  {
   "cell_type": "code",
   "execution_count": 5,
   "metadata": {},
   "outputs": [
    {
     "name": "stderr",
     "output_type": "stream",
     "text": [
      "17:26:23 - cmdstanpy - INFO - CmdStan start processing\n",
      "17:26:23 - cmdstanpy - INFO - Chain [1] start processing\n"
     ]
    },
    {
     "name": "stderr",
     "output_type": "stream",
     "text": [
      "17:26:24 - cmdstanpy - INFO - Chain [1] done processing\n",
      "17:26:24 - cmdstanpy - INFO - CmdStan start processing\n",
      "17:26:24 - cmdstanpy - INFO - Chain [1] start processing\n",
      "17:26:24 - cmdstanpy - INFO - Chain [1] done processing\n",
      "17:26:24 - cmdstanpy - WARNING - Non-fatal error during sampling:\n",
      "Exception: normal_lpdf: Scale parameter is 0, but must be positive! (in 'model.stan', line 23, column 12 to column 54)\n",
      "Consider re-running with show_console=True if the above output is unclear!\n",
      "17:26:24 - cmdstanpy - INFO - CmdStan start processing\n",
      "17:26:24 - cmdstanpy - INFO - Chain [1] start processing\n",
      "17:26:25 - cmdstanpy - INFO - Chain [1] done processing\n",
      "17:26:25 - cmdstanpy - WARNING - Non-fatal error during sampling:\n",
      "Exception: normal_lpdf: Scale parameter is 0, but must be positive! (in 'model.stan', line 23, column 12 to column 54)\n",
      "Consider re-running with show_console=True if the above output is unclear!\n",
      "17:26:25 - cmdstanpy - INFO - CmdStan start processing\n",
      "17:26:25 - cmdstanpy - INFO - Chain [1] start processing\n",
      "17:26:25 - cmdstanpy - INFO - Chain [1] done processing\n"
     ]
    },
    {
     "name": "stdout",
     "output_type": "stream",
     "text": [
      "WAIC for 4 dimensions: 0.7973426224066149\n",
      "WAIC for 3 dimensions: 0.7877531351930877\n",
      "WAIC for 2 dimensions: 0.7781081652866775\n",
      "WAIC for 1 dimensions: 1.9152551051974886\n"
     ]
    }
   ],
   "source": [
    "# model selection\n",
    "results = []\n",
    "for i in range(4):\n",
    "    XX = X[:, :D-i]\n",
    "    mcmc_ = run_mcmc(linear_model, XX, y)\n",
    "    waic = evaluate_model(mcmc_)\n",
    "    results.append((i, waic))\n",
    "\n",
    "for i, waic in results:\n",
    "    print(f\"WAIC for {D-i} dimensions: {waic}\")"
   ]
  },
  {
   "cell_type": "code",
   "execution_count": 6,
   "metadata": {},
   "outputs": [
    {
     "name": "stderr",
     "output_type": "stream",
     "text": [
      "17:26:25 - cmdstanpy - INFO - Chain [1] start processing\n",
      "17:26:25 - cmdstanpy - INFO - Chain [2] start processing\n",
      "17:26:25 - cmdstanpy - INFO - Chain [3] start processing\n",
      "17:26:25 - cmdstanpy - INFO - Chain [4] start processing\n",
      "17:26:25 - cmdstanpy - INFO - Chain [2] done processing\n",
      "17:26:25 - cmdstanpy - INFO - Chain [1] done processing\n",
      "17:26:25 - cmdstanpy - INFO - Chain [3] done processing\n",
      "17:26:25 - cmdstanpy - INFO - Chain [4] done processing\n",
      "17:26:26 - cmdstanpy - WARNING - Sample doesn't contain draws from warmup iterations, rerun sampler with \"save_warmup=True\".\n"
     ]
    },
    {
     "data": {
      "text/plain": [
       "array([[ 5.54901  ,  6.36067  ,  0.0634991, ...,  5.49057  ,  0.729398 ,\n",
       "         0.877588 ],\n",
       "       [ 4.93151  ,  8.01321  , -1.3038   , ...,  5.07612  ,  1.13686  ,\n",
       "         0.708401 ],\n",
       "       [ 5.75272  ,  8.49084  , -1.01292  , ...,  5.09816  ,  1.64969  ,\n",
       "         2.36296  ],\n",
       "       ...,\n",
       "       [ 5.44669  ,  7.33665  , -1.2899   , ...,  5.71663  ,  1.60873  ,\n",
       "         0.364744 ],\n",
       "       [ 5.88514  ,  8.44136  , -1.11645  , ...,  6.53558  ,  1.2513   ,\n",
       "         1.32404  ],\n",
       "       [ 5.59862  ,  8.39457  , -0.92521  , ...,  5.19721  ,  2.06629  ,\n",
       "         1.32276  ]])"
      ]
     },
     "execution_count": 6,
     "metadata": {},
     "output_type": "execute_result"
    }
   ],
   "source": [
    "make_prediction(linear_model, X, mcmc)"
   ]
  },
  {
   "cell_type": "code",
   "execution_count": null,
   "metadata": {},
   "outputs": [],
   "source": []
  }
 ],
 "metadata": {
  "kernelspec": {
   "display_name": ".venv",
   "language": "python",
   "name": "python3"
  },
  "language_info": {
   "codemirror_mode": {
    "name": "ipython",
    "version": 3
   },
   "file_extension": ".py",
   "mimetype": "text/x-python",
   "name": "python",
   "nbconvert_exporter": "python",
   "pygments_lexer": "ipython3",
   "version": "3.11.4"
  }
 },
 "nbformat": 4,
 "nbformat_minor": 2
}
