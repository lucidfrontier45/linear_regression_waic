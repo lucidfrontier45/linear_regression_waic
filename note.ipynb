{
 "cells": [
  {
   "cell_type": "code",
   "execution_count": 1,
   "metadata": {},
   "outputs": [
    {
     "name": "stderr",
     "output_type": "stream",
     "text": [
      "/home/du/workspace/numpyro_linear_regression_waic/.venv/lib/python3.11/site-packages/tqdm/auto.py:21: TqdmWarning: IProgress not found. Please update jupyter and ipywidgets. See https://ipywidgets.readthedocs.io/en/stable/user_install.html\n",
      "  from .autonotebook import tqdm as notebook_tqdm\n"
     ]
    }
   ],
   "source": [
    "import arviz\n",
    "import jax\n",
    "import numpy as np\n",
    "\n",
    "from app.inference import run_mcmc, evaluate_model\n",
    "from app.model import linear_model"
   ]
  },
  {
   "cell_type": "code",
   "execution_count": 2,
   "metadata": {},
   "outputs": [
    {
     "name": "stderr",
     "output_type": "stream",
     "text": [
      "An NVIDIA GPU may be present on this machine, but a CUDA-enabled jaxlib is not installed. Falling back to cpu.\n"
     ]
    }
   ],
   "source": [
    "w = np.array([3.5, -1.5,  0.0, 0.0])\n",
    "sigma = 0.5\n",
    "\n",
    "D = len(w)\n",
    "N = 100\n",
    "np.random.seed(0)\n",
    "X_ = np.random.randn(N, D)\n",
    "y_ = np.dot(X_, w) + np.random.randn(N) * sigma\n",
    "\n",
    "X = jax.device_put(X_)\n",
    "y = jax.device_put(y_)"
   ]
  },
  {
   "cell_type": "code",
   "execution_count": 3,
   "metadata": {},
   "outputs": [
    {
     "name": "stdout",
     "output_type": "stream",
     "text": [
      "\n",
      "                mean       std    median      5.0%     95.0%     n_eff     r_hat\n",
      "     sigma      0.53      0.04      0.52      0.46      0.58   1364.29      1.00\n",
      "      w[0]      3.43      0.05      3.43      3.35      3.51   1220.64      1.00\n",
      "      w[1]     -1.56      0.06     -1.56     -1.64     -1.46    916.44      1.00\n",
      "      w[2]     -0.01      0.06     -0.01     -0.11      0.09   1100.94      1.00\n",
      "      w[3]     -0.01      0.05     -0.01     -0.09      0.08   1218.64      1.00\n",
      "\n",
      "Number of divergences: 0\n"
     ]
    }
   ],
   "source": [
    "mcmc = run_mcmc(linear_model, X, y)\n",
    "mcmc.print_summary()"
   ]
  },
  {
   "cell_type": "code",
   "execution_count": 4,
   "metadata": {},
   "outputs": [
    {
     "data": {
      "text/plain": [
       "0.7954699710394434"
      ]
     },
     "execution_count": 4,
     "metadata": {},
     "output_type": "execute_result"
    }
   ],
   "source": [
    "evaluate_model(linear_model, X, y, mcmc.get_samples())"
   ]
  },
  {
   "cell_type": "code",
   "execution_count": 5,
   "metadata": {},
   "outputs": [
    {
     "name": "stderr",
     "output_type": "stream",
     "text": [
      "/home/du/workspace/numpyro_linear_regression_waic/.venv/lib/python3.11/site-packages/arviz/stats/stats.py:1645: UserWarning: For one or more samples the posterior variance of the log predictive densities exceeds 0.4. This could be indication of WAIC starting to fail. \n",
      "See http://arxiv.org/abs/1507.04544 for details\n",
      "  warnings.warn(\n"
     ]
    },
    {
     "data": {
      "text/plain": [
       "Computed from 1000 posterior samples and 100 observations log-likelihood matrix.\n",
       "\n",
       "           Estimate       SE\n",
       "-elpd_waic    79.55     7.12\n",
       "p_waic         4.73        -\n",
       "\n",
       "There has been a warning during the calculation. Please check the results."
      ]
     },
     "execution_count": 5,
     "metadata": {},
     "output_type": "execute_result"
    }
   ],
   "source": [
    "# comparison with arivz implementation\n",
    "# looks like arviz does not divide WAIC by N (number of data points)\n",
    "arviz.waic(mcmc, scale=\"negative_log\")"
   ]
  },
  {
   "cell_type": "code",
   "execution_count": 6,
   "metadata": {},
   "outputs": [
    {
     "name": "stdout",
     "output_type": "stream",
     "text": [
      "WAIC for 4 dimensions: 0.7954699710394434\n",
      "WAIC for 3 dimensions: 0.7834370291883676\n",
      "WAIC for 2 dimensions: 0.7765665572323642\n",
      "WAIC for 1 dimensions: 1.9153631023793407\n"
     ]
    }
   ],
   "source": [
    "# model selection\n",
    "for i in range(4):\n",
    "    XX = X[:, :D-i]\n",
    "    mcmc = run_mcmc(linear_model, XX, y)\n",
    "    waic = evaluate_model(linear_model, XX, y, mcmc.get_samples())\n",
    "    print(f\"WAIC for {D-i} dimensions: {waic}\")"
   ]
  }
 ],
 "metadata": {
  "kernelspec": {
   "display_name": ".venv",
   "language": "python",
   "name": "python3"
  },
  "language_info": {
   "codemirror_mode": {
    "name": "ipython",
    "version": 3
   },
   "file_extension": ".py",
   "mimetype": "text/x-python",
   "name": "python",
   "nbconvert_exporter": "python",
   "pygments_lexer": "ipython3",
   "version": "3.11.4"
  }
 },
 "nbformat": 4,
 "nbformat_minor": 2
}
